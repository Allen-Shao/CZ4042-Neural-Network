{
 "cells": [
  {
   "cell_type": "code",
   "execution_count": 7,
   "metadata": {},
   "outputs": [],
   "source": [
    "import numpy as np\n",
    "import theano\n",
    "import theano.tensor as T\n",
    "import matplotlib.pyplot as plt\n",
    "import time\n",
    "from collections import Counter\n",
    "\n",
    "X_min = None\n",
    "X_max = None\n",
    "# scale data\n",
    "def scale(X):\n",
    "    return (X - X_min)/(X_max-np.min(X, axis=0))\n",
    "\n",
    "# update parameters\n",
    "def sgd(cost, params, lr=0.01):\n",
    "    grads = T.grad(cost=cost, wrt=params)\n",
    "    updates = []\n",
    "    for p, g in zip(params, grads):\n",
    "        updates.append([p, p - g * lr])\n",
    "    return updates\n",
    "\n",
    "def shuffle_data (samples, labels):\n",
    "    idx = np.arange(samples.shape[0])\n",
    "    np.random.shuffle(idx)\n",
    "    #print  (samples.shape, labels.shape)\n",
    "    samples, labels = samples[idx], labels[idx]\n",
    "    return samples, labels\n",
    "\n",
    "def read_data(filename):\n",
    "    \"\"\"\n",
    "    Reading the file and return scaled features and labels\n",
    "    \"\"\"\n",
    "    input_data = np.loadtxt(filename,delimiter=' ')\n",
    "    X, _Y = input_data[:,:36], input_data[:,-1].astype(int)\n",
    "    \n",
    "    _Y[_Y == 7] = 6\n",
    "    Y = np.zeros((_Y.shape[0], 6))\n",
    "    Y[np.arange(_Y.shape[0]), _Y-1] = 1\n",
    "    \n",
    "    return X, Y"
   ]
  },
  {
   "cell_type": "code",
   "execution_count": 8,
   "metadata": {},
   "outputs": [
    {
     "name": "stdout",
     "output_type": "stream",
     "text": [
      "(4435, 36) (4435, 6)\n",
      "(2000, 36) (2000, 6)\n"
     ]
    }
   ],
   "source": [
    "# Prepare Data\n",
    "trainX, trainY = read_data('sat_train.txt')\n",
    "testX, testY = read_data('sat_test.txt')\n",
    "\n",
    "# Use min max value of traning data to do scaling\n",
    "X_min = np.min(trainX, axis=0)\n",
    "X_max = np.max(trainX, axis=0)\n",
    "\n",
    "trainX = scale(trainX)\n",
    "testX = scale(testX)\n",
    "    \n",
    "print(trainX.shape, trainY.shape)\n",
    "print(testX.shape, testY.shape)"
   ]
  },
  {
   "cell_type": "code",
   "execution_count": 9,
   "metadata": {},
   "outputs": [],
   "source": [
    "def plot_his(c, pic_name, title):\n",
    "    x = list(c.keys())\n",
    "    y = c.values()\n",
    "\n",
    "    # plot the histogram\n",
    "    fig, ax = plt.subplots(figsize=(10,6))\n",
    "    rect = ax.bar(x,y,align='center') # A bar chart\n",
    "    plt.title(title)\n",
    "    plt.xlabel('Class of labels')\n",
    "    plt.ylabel('Number of Samples')\n",
    "    # for i in range(len(y)):\n",
    "    #     plt.hlines(y[i],0,x[i]) # Here you are drawing the horizontal lines\n",
    "    def autolabel(rects):\n",
    "        \"\"\"\n",
    "        Attach a text label above each bar displaying its height\n",
    "        \"\"\"\n",
    "        for rect in rects:\n",
    "            height = rect.get_height()\n",
    "            ax.text(rect.get_x() + rect.get_width()/2., 1.05*height,\n",
    "                    '%d' % (int(height)),\n",
    "                    ha='center', va='bottom')\n",
    "\n",
    "    autolabel(rect)\n",
    "    plt.savefig(pic_name)\n",
    "    plt.show()\n",
    "    plt.close()"
   ]
  },
  {
   "cell_type": "code",
   "execution_count": null,
   "metadata": {
    "collapsed": true
   },
   "outputs": [],
   "source": []
  },
  {
   "cell_type": "code",
   "execution_count": null,
   "metadata": {},
   "outputs": [],
   "source": [
    "plot_his(Counter(trainY.argmax(axis=1)), \"./graph/train_label_distribution.png\", \"Distribution of label classes in traning dataset\")"
   ]
  },
  {
   "cell_type": "code",
   "execution_count": null,
   "metadata": {},
   "outputs": [],
   "source": [
    "plot_his(Counter(testY.argmax(axis=1)), \"./graph/test_label_distribution.png\", \"Distribution of label classes in test dataset\")"
   ]
  },
  {
   "cell_type": "code",
   "execution_count": null,
   "metadata": {},
   "outputs": [],
   "source": [
    "plot_his(Counter(np.concatenate([trainY,testY]).argmax(axis=1)), \"./graph/total_label_distribution.png\", \"Distribution of label classes in the whole dataset\")"
   ]
  },
  {
   "cell_type": "code",
   "execution_count": 20,
   "metadata": {},
   "outputs": [
    {
     "data": {
      "image/png": "[encoded data removed]",
      "text/plain": [
       "<matplotlib.figure.Figure at 0x1122243c8>"
      ]
     },
     "metadata": {},
     "output_type": "display_data"
    }
   ],
   "source": [
    "# After Scaling\n",
    "plt.plot(sorted(trainX[:,0]))\n",
    "plt.title(\"Distribution of First Feature in Training Data\")\n",
    "plt.xlabel(\"Traning Samples\")\n",
    "plt.ylabel(\"Feature Value\")\n",
    "plt.savefig(\"./graph/dis_training_feature0.png\")\n",
    "plt.show()\n",
    "plt.close()"
   ]
  },
  {
   "cell_type": "code",
   "execution_count": null,
   "metadata": {
    "collapsed": true
   },
   "outputs": [],
   "source": []
  }
 ],
 "metadata": {
  "kernelspec": {
   "display_name": "Python 3",
   "language": "python",
   "name": "python3"
  },
  "language_info": {
   "codemirror_mode": {
    "name": "ipython",
    "version": 3
   },
   "file_extension": ".py",
   "mimetype": "text/x-python",
   "name": "python",
   "nbconvert_exporter": "python",
   "pygments_lexer": "ipython3",
   "version": "3.6.1"
  }
 },
 "nbformat": 4,
 "nbformat_minor": 2
}
