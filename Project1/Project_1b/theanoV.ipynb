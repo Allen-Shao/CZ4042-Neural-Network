{
 "cells": [
  {
   "cell_type": "code",
   "execution_count": 1,
   "metadata": {
    "collapsed": true
   },
   "outputs": [],
   "source": [
    "import time\n",
    "import numpy as np\n",
    "import theano\n",
    "import theano.tensor as T\n",
    "import matplotlib.pyplot as plt\n",
    "from mpl_toolkits.mplot3d import Axes3D\n",
    "from sklearn.model_selection import KFold\n"
   ]
  },
  {
   "cell_type": "code",
   "execution_count": 2,
   "metadata": {
    "collapsed": true
   },
   "outputs": [],
   "source": [
    "# scale and normalize input data\n",
    "def scale(X, X_min, X_max):\n",
    "    return (X - X_min)/(X_max - X_min)\n",
    "\n",
    "def normalize(X, X_mean, X_std):\n",
    "    return (X - X_mean)/X_std\n",
    "\n",
    "def shuffle_data (samples, labels):\n",
    "    idx = np.arange(samples.shape[0])\n",
    "    np.random.shuffle(idx)\n",
    "    #print  (samples.shape, labels.shape)\n",
    "    samples, labels = samples[idx], labels[idx]\n",
    "    return samples, labels"
   ]
  },
  {
   "cell_type": "code",
   "execution_count": 3,
   "metadata": {
    "collapsed": true
   },
   "outputs": [],
   "source": [
    "def plots(train_costs, val_costs, test_costs, learning_rate, epochs=1000):\n",
    "    #Plots\n",
    "    plt.figure()\n",
    "    plt.plot(range(epochs), train_costs, label='train costs')\n",
    "    plt.plot(range(epochs), val_costs, label='val costs')\n",
    "    plt.xlabel('Epochs')\n",
    "    plt.ylabel('Mean Squared Error')\n",
    "    plt.title('Training and Validation Errors at Alpha = %.5f'%learning_rate)\n",
    "    ymin = val_costs.min()\n",
    "    xmin = np.argmin(val_costs)\n",
    "    text= \"val_lost_min={:.3f}, epoch={:}\".format(ymin, xmin)\n",
    "    bbox_props = dict(boxstyle=\"square,pad=0.3\", fc=\"w\", ec=\"k\", lw=0.72)\n",
    "    arrowprops=dict(arrowstyle=\"->\",connectionstyle=\"arc3, rad=0\")\n",
    "    kw = dict(xycoords='data',textcoords=\"axes fraction\",\n",
    "              arrowprops=arrowprops, bbox=bbox_props, ha=\"right\", va=\"center\")\n",
    "    plt.gca().annotate(text, xy=(xmin,ymin), xytext=(0.94,0.6), **kw)\n",
    "    plt.legend()\n",
    "    plt.savefig(str(learning_rate) + '_train_val_mse.png')\n",
    "    plt.show()\n",
    "\n",
    "    plt.figure()\n",
    "    plt.plot(range(epochs), test_costs)\n",
    "    plt.xlabel('Epochs')\n",
    "    plt.ylabel('Mean Squared Error')\n",
    "    plt.title('Test Error')\n",
    "    ymin = test_costs.min()\n",
    "    xmin = np.argmin(test_costs)\n",
    "    text= \"test_cost_min={:.3f}, epoch={:}\".format(ymin, xmin)\n",
    "    bbox_props = dict(boxstyle=\"square,pad=0.3\", fc=\"w\", ec=\"k\", lw=0.72)\n",
    "    arrowprops=dict(arrowstyle=\"->\",connectionstyle=\"arc3, rad=0\")\n",
    "    kw = dict(xycoords='data',textcoords=\"axes fraction\",\n",
    "              arrowprops=arrowprops, bbox=bbox_props, ha=\"right\", va=\"center\")\n",
    "    plt.gca().annotate(text, xy=(xmin,ymin), xytext=(0.94,0.6), **kw)\n",
    "    plt.savefig(str(learning_rate) + '_test_error.png')\n",
    "    plt.show()"
   ]
  },
  {
   "cell_type": "code",
   "execution_count": 4,
   "metadata": {
    "collapsed": true
   },
   "outputs": [],
   "source": [
    "np.random.seed(10)\n",
    "\n",
    "epochs = 1000\n",
    "batch_size = 32\n",
    "no_hidden1 = 30 #num of neurons in hidden layer 1\n",
    "learning_rate = 1e-4\n",
    "\n",
    "floatX = theano.config.floatX\n",
    "\n",
    "\n",
    "#read and divide data into test and train sets\n",
    "cal_housing = np.loadtxt('cal_housing.data', delimiter=',')\n",
    "X_data, Y_data = cal_housing[:,:8], cal_housing[:,-1]\n",
    "Y_data = (np.asmatrix(Y_data)).transpose()\n",
    "\n",
    "X_data, Y_data = shuffle_data(X_data, Y_data)"
   ]
  },
  {
   "cell_type": "code",
   "execution_count": 5,
   "metadata": {
    "collapsed": true
   },
   "outputs": [],
   "source": [
    "\n",
    "#separate train and test data\n",
    "m = 3*X_data.shape[0] // 10\n",
    "testX, testY = X_data[:m],Y_data[:m]\n",
    "trainX, trainY = X_data[m:], Y_data[m:]\n",
    "\n",
    "# scale and normalize data\n",
    "trainX_max, trainX_min =  np.max(trainX, axis=0), np.min(trainX, axis=0)\n",
    "testX_max, testX_min =  np.max(testX, axis=0), np.min(testX, axis=0)\n",
    "\n",
    "trainX = scale(trainX, trainX_min, trainX_max)\n",
    "testX = scale(testX, testX_min, testX_max)\n",
    "\n",
    "trainX_mean, trainX_std = np.mean(trainX, axis=0), np.std(trainX, axis=0)\n",
    "testX_mean, testX_std = np.mean(testX, axis=0), np.std(testX, axis=0)\n",
    "\n",
    "trainX = normalize(trainX, trainX_mean, trainX_std)\n",
    "testX = normalize(testX, testX_mean, testX_std)\n"
   ]
  },
  {
   "cell_type": "code",
   "execution_count": 6,
   "metadata": {
    "collapsed": true
   },
   "outputs": [],
   "source": [
    "no_features = trainX.shape[1]\n",
    "x = T.matrix('x') # data sample\n",
    "d = T.matrix('d') # desired output\n",
    "no_samples = T.scalar('no_samples')\n",
    "\n",
    "# initialize weights and biases for hidden layer(s) and output layer\n",
    "w_o = theano.shared(np.random.randn(no_hidden1)*.01, floatX )\n",
    "b_o = theano.shared(np.random.randn()*.01, floatX)\n",
    "w_h1 = theano.shared(np.random.randn(no_features, no_hidden1)*.01, floatX )\n",
    "b_h1 = theano.shared(np.random.randn(no_hidden1)*0.01, floatX)\n",
    "\n",
    "# learning rate\n",
    "alpha = theano.shared(learning_rate, floatX)\n",
    "\n",
    "#Define mathematical expression:\n",
    "h1_out = T.nnet.sigmoid(T.dot(x, w_h1) + b_h1)\n",
    "y = T.dot(h1_out, w_o) + b_o\n",
    "\n",
    "cost = T.abs_(T.mean(T.sqr(d - y)))\n",
    "accuracy = T.mean(d - y)\n",
    "\n",
    "#define gradients\n",
    "dw_o, db_o, dw_h, db_h = T.grad(cost, [w_o, b_o, w_h1, b_h1])"
   ]
  },
  {
   "cell_type": "code",
   "execution_count": 7,
   "metadata": {
    "collapsed": true
   },
   "outputs": [],
   "source": [
    "train = theano.function(\n",
    "        inputs = [x, d],\n",
    "        outputs = cost,\n",
    "        updates = [[w_o, w_o - alpha*dw_o],\n",
    "                   [b_o, b_o - alpha*db_o],\n",
    "                   [w_h1, w_h1 - alpha*dw_h],\n",
    "                   [b_h1, b_h1 - alpha*db_h]],\n",
    "        allow_input_downcast=True\n",
    "        )\n",
    "\n",
    "test = theano.function(\n",
    "    inputs = [x, d],\n",
    "    outputs = [y, cost, accuracy],\n",
    "    allow_input_downcast=True\n",
    ")"
   ]
  },
  {
   "cell_type": "code",
   "execution_count": 8,
   "metadata": {
    "collapsed": true
   },
   "outputs": [],
   "source": [
    "def new_model():\n",
    "    w_o.set_value(np.random.randn(no_hidden1)*.01)\n",
    "    b_o.set_value(np.random.randn()*.01)\n",
    "    w_h1.set_value(np.random.randn(no_features, no_hidden1)*.01)\n",
    "    b_h1.set_value(np.random.randn(no_hidden1)*.01)"
   ]
  },
  {
   "cell_type": "code",
   "execution_count": 9,
   "metadata": {},
   "outputs": [
    {
     "name": "stdout",
     "output_type": "stream",
     "text": [
      "0.0001\n"
     ]
    }
   ],
   "source": [
    "train_cost = np.zeros(epochs)\n",
    "test_cost = np.zeros(epochs)\n",
    "test_accuracy = np.zeros(epochs)\n",
    "val_cost = np.zeros(epochs)\n",
    "val_accuracy = np.zeros(epochs)\n",
    "\n",
    "min_error = 1e+15\n",
    "best_iter = 0\n",
    "best_w_o = np.zeros(no_hidden1)\n",
    "best_w_h1 = np.zeros([no_features, no_hidden1])\n",
    "best_b_o = 0\n",
    "best_b_h1 = np.zeros(no_hidden1)\n",
    "\n",
    "alpha.set_value(learning_rate)\n",
    "print(alpha.get_value())"
   ]
  },
  {
   "cell_type": "code",
   "execution_count": 1,
   "metadata": {},
   "outputs": [
    {
     "ename": "NameError",
     "evalue": "name 'time' is not defined",
     "output_type": "error",
     "traceback": [
      "\u001b[0;31m---------------------------------------------------------------------------\u001b[0m",
      "\u001b[0;31mNameError\u001b[0m                                 Traceback (most recent call last)",
      "\u001b[0;32m<ipython-input-1-6905b1b0e39b>\u001b[0m in \u001b[0;36m<module>\u001b[0;34m()\u001b[0m\n\u001b[0;32m----> 1\u001b[0;31m \u001b[0mt\u001b[0m \u001b[0;34m=\u001b[0m \u001b[0mtime\u001b[0m\u001b[0;34m.\u001b[0m\u001b[0mtime\u001b[0m\u001b[0;34m(\u001b[0m\u001b[0;34m)\u001b[0m\u001b[0;34m\u001b[0m\u001b[0m\n\u001b[0m\u001b[1;32m      2\u001b[0m \u001b[0mkf\u001b[0m \u001b[0;34m=\u001b[0m \u001b[0mKFold\u001b[0m\u001b[0;34m(\u001b[0m\u001b[0mn_splits\u001b[0m\u001b[0;34m=\u001b[0m\u001b[0;36m5\u001b[0m\u001b[0;34m)\u001b[0m\u001b[0;34m\u001b[0m\u001b[0m\n\u001b[1;32m      3\u001b[0m \u001b[0mtest_costs\u001b[0m \u001b[0;34m=\u001b[0m \u001b[0;34m[\u001b[0m\u001b[0;34m]\u001b[0m\u001b[0;34m\u001b[0m\u001b[0m\n\u001b[1;32m      4\u001b[0m \u001b[0mtrain_costs\u001b[0m \u001b[0;34m=\u001b[0m \u001b[0;34m[\u001b[0m\u001b[0;34m]\u001b[0m\u001b[0;34m\u001b[0m\u001b[0m\n\u001b[1;32m      5\u001b[0m \u001b[0mval_costs\u001b[0m \u001b[0;34m=\u001b[0m \u001b[0;34m[\u001b[0m\u001b[0;34m]\u001b[0m\u001b[0;34m\u001b[0m\u001b[0m\n",
      "\u001b[0;31mNameError\u001b[0m: name 'time' is not defined"
     ]
    }
   ],
   "source": [
    "t = time.time()\n",
    "kf = KFold(n_splits=5)\n",
    "test_costs = []\n",
    "train_costs = []\n",
    "val_costs = []\n",
    "i=0\n",
    "for train_index, val_index in kf.split(trainX):\n",
    "    print(\"k fold validation: \" + str(i))\n",
    "    val_set_X = trainX[val_index]\n",
    "    val_set_Y = trainY[val_index]\n",
    "    train_set_X = trainX[train_index]\n",
    "    train_set_Y = trainY[train_index]\n",
    "    new_model()\n",
    "    for iter in range(epochs):\n",
    "        if iter % 100 == 0:\n",
    "            print(iter)\n",
    "\n",
    "        train_set_X, train_set_Y = shuffle_data(train_set_X, train_set_Y)\n",
    "        val_set_X, val_set_Y = shuffle_data(val_set_X, val_set_Y)\n",
    "        train_cost[iter] = train(train_set_X, np.transpose(train_set_Y))\n",
    "        val_pred, val_cost[iter], val_accuracy[iter] = test(val_set_X, np.transpose(val_set_Y))\n",
    "        pred, test_cost[iter], test_accuracy[iter] = test(testX, np.transpose(testY))\n",
    "\n",
    "        if val_cost[iter] < min_error:\n",
    "            best_iter = iter\n",
    "            min_error = test_cost[iter]\n",
    "            best_w_o = w_o.get_value()\n",
    "            best_w_h1 = w_h1.get_value()\n",
    "            best_b_o = b_o.get_value()\n",
    "            best_b_h1 = b_h1.get_value()\n",
    "#     plots(train_cost, test_cost, learning_rate)        \n",
    "    test_costs.append(test_cost)\n",
    "    train_costs.append(train_cost)\n",
    "    val_costs.append(val_cost)\n",
    "\n",
    "    #set weights and biases to values at which performance was best\n",
    "#     w_o.set_value(best_w_o)\n",
    "#     b_o.set_value(best_b_o)\n",
    "#     w_h1.set_value(best_w_h1)\n",
    "#     b_h1.set_value(best_b_h1)\n",
    "\n",
    "#     best_pred, best_cost, best_accuracy = test(testX, np.transpose(testY))\n",
    "    best_cost = np.min(test_costs)\n",
    "    best_accuracy = np.max(test_accuracy)\n",
    "    best_iter = 2333\n",
    "    \n",
    "    print('Minimum error: %.1f, Best accuracy %.1f, Number of Iterations: %d'%(best_cost, best_accuracy, best_iter))\n",
    "    i += 1\n",
    "    \n",
    "plots(np.mean(train_costs, axis=0), np.mean(val_costs, axis=0), np.mean(test_costs, axis=0), learning_rate)\n",
    "\n"
   ]
  },
  {
   "cell_type": "code",
   "execution_count": 58,
   "metadata": {},
   "outputs": [
    {
     "data": {
      "image/png": "[encoded data removed]",
      "text/plain": [
       "<matplotlib.figure.Figure at 0x11cdf7290>"
      ]
     },
     "metadata": {},
     "output_type": "display_data"
    }
   ],
   "source": [
    "plots(np.mean(train_costs, axis=0), np.mean(test_costs, axis=0), learning_rate)"
   ]
  },
  {
   "cell_type": "code",
   "execution_count": 28,
   "metadata": {},
   "outputs": [
    {
     "data": {
      "text/plain": [
       "(1000,)"
      ]
     },
     "execution_count": 28,
     "metadata": {},
     "output_type": "execute_result"
    }
   ],
   "source": [
    "np.mean(training_errs, axis=0).shape"
   ]
  },
  {
   "cell_type": "code",
   "execution_count": null,
   "metadata": {
    "collapsed": true
   },
   "outputs": [],
   "source": []
  }
 ],
 "metadata": {
  "kernelspec": {
   "display_name": "Python 3",
   "language": "python",
   "name": "python3"
  },
  "language_info": {
   "codemirror_mode": {
    "name": "ipython",
    "version": 3
   },
   "file_extension": ".py",
   "mimetype": "text/x-python",
   "name": "python",
   "nbconvert_exporter": "python",
   "pygments_lexer": "ipython3",
   "version": "3.6.2"
  }
 },
 "nbformat": 4,
 "nbformat_minor": 2
}
